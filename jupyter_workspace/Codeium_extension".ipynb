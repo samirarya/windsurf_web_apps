{
 "cells": [
  {
   "cell_type": "code",
   "execution_count": 1,
   "id": "42cb7c4d-8156-4f25-af0a-532f809c2ad4",
   "metadata": {},
   "outputs": [],
   "source": [
    "def fib(n):\n",
    "    if n == 0:\n",
    "        return 0\n",
    "    if n == 1:\n",
    "        return 1\n",
    "    return fib(n - 1) + fib(n - 2)"
   ]
  },
  {
   "cell_type": "code",
   "execution_count": 13,
   "id": "88c43403-b75d-4538-b13d-6fac2dcff931",
   "metadata": {},
   "outputs": [],
   "source": [
    "answer = fib(10)"
   ]
  },
  {
   "cell_type": "code",
   "execution_count": 14,
   "id": "e47fe4c1-6719-400e-9aaf-38757ec2eba0",
   "metadata": {},
   "outputs": [
    {
     "name": "stdout",
     "output_type": "stream",
     "text": [
      "55\n"
     ]
    }
   ],
   "source": [
    "print(answer)"
   ]
  },
  {
   "cell_type": "code",
   "execution_count": 15,
   "id": "2876035a-7c5f-4e1a-93f5-ef707b85c415",
   "metadata": {},
   "outputs": [],
   "source": [
    "# Nth Fibonacci number.\n",
    "# Add comments to each line of code to explain what it does.\n",
    "def fibonacci(n):\n",
    "    a = 0\n",
    "    b = 1\n",
    "    if n < 0:\n",
    "        print(\"Incorrect input\")\n",
    "    elif n == 0:\n",
    "        return a\n",
    "    elif n == 1:\n",
    "        return b\n",
    "    else:\n",
    "        for i in range(2, n):\n",
    "            c = a + b\n",
    "            a = b\n",
    "            b = c\n",
    "        return b"
   ]
  },
  {
   "cell_type": "code",
   "execution_count": 16,
   "id": "6f489957-8951-4e74-8739-4ef9c04921a3",
   "metadata": {},
   "outputs": [],
   "source": [
    "#Find the largest subsequence from a given list of integers.\n",
    "def find_largest_subsequence(arr):\n",
    "    n = len(arr)\n",
    "    max_sum = arr[0]\n",
    "    current_sum = arr[0]\n",
    "    for i in range(1, n):\n",
    "        current_sum = max(arr[i], current_sum + arr[i])\n",
    "        max_sum = max(max_sum, current_sum)\n",
    "    return max_sum"
   ]
  },
  {
   "cell_type": "code",
   "execution_count": 19,
   "id": "a280bf1a-7398-43d2-8bb3-e1f7264b2be3",
   "metadata": {},
   "outputs": [
    {
     "data": {
      "text/plain": [
       "15"
      ]
     },
     "execution_count": 19,
     "metadata": {},
     "output_type": "execute_result"
    }
   ],
   "source": [
    "find_largest_subsequence([1,2,3,4,5])"
   ]
  },
  {
   "cell_type": "code",
   "execution_count": null,
   "id": "c1e8904b-0a07-476c-9aeb-ad8b90f92d69",
   "metadata": {},
   "outputs": [],
   "source": []
  }
 ],
 "metadata": {
  "kernelspec": {
   "display_name": "Python 3 (ipykernel)",
   "language": "python",
   "name": "python3"
  },
  "language_info": {
   "codemirror_mode": {
    "name": "ipython",
    "version": 3
   },
   "file_extension": ".py",
   "mimetype": "text/x-python",
   "name": "python",
   "nbconvert_exporter": "python",
   "pygments_lexer": "ipython3",
   "version": "3.13.2"
  }
 },
 "nbformat": 4,
 "nbformat_minor": 5
}
